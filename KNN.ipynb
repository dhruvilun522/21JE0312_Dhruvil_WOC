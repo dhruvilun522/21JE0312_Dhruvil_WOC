{
 "cells": [
  {
   "cell_type": "code",
   "execution_count": null,
   "metadata": {},
   "outputs": [],
   "source": [
    "import numpy as np \n",
    "import pandas as pd"
   ]
  },
  {
   "cell_type": "code",
   "execution_count": null,
   "metadata": {},
   "outputs": [],
   "source": [
    "#creating data for test and train\n",
    "training_data = pd.read_csv('emnist-letters-train.csv',header=None)\n",
    "test_data = pd.read_csv('emnist-letters-test (1).csv',header=None)\n",
    "l1=['A','B','C','D','E','F','G','H','I','J','K','L','M','N','O','P','Q','R','S','T','U','V','W','X','Y','Z']"
   ]
  },
  {
   "cell_type": "code",
   "execution_count": null,
   "metadata": {},
   "outputs": [],
   "source": [
    "#creating 26 dataset for differebt letters\n",
    "datasets = []\n",
    "\n",
    "for i in range(26):\n",
    "    datasets.append(training_data.copy())\n",
    "for i in range(1,27):\n",
    "    for j in range(88800):\n",
    "        if datasets[i-1].iloc[j,0] == i:\n",
    "            datasets[i-1].iloc[j,0]=1\n",
    "        else:\n",
    "            datasets[i-1].iloc[j,0]=0   \n",
    "\n",
    "train_dict={}\n",
    "for i in range(1,27):\n",
    "    X = datasets[i-1].iloc[:,1:785]\n",
    "    y = datasets[i-1].iloc[:,0]  \n",
    "    y = np.array(y)\n",
    "    y = y.reshape(y.shape[0],1)\n",
    "    \n",
    "    train_dict[l1[i-1]] = [X,y]\n",
    "\n",
    "datasets = []\n",
    "\n",
    "for i in range(26):\n",
    "    datasets.append(test_data.copy())\n",
    "for i in range(1,27):\n",
    "    for j in range(14800):\n",
    "        if datasets[i-1].iloc[j,0] == i:\n",
    "            datasets[i-1].iloc[j,0]=1\n",
    "        else:\n",
    "            datasets[i-1].iloc[j,0]=0   \n",
    "\n",
    "test_dict={}\n",
    "for i in range(1,27):\n",
    "    X = datasets[i-1].iloc[:,1:785]\n",
    "    y = datasets[i-1].iloc[:,0]  \n",
    "    y = np.array(y)\n",
    "    y = y.reshape(y.shape[0],1)\n",
    "    \n",
    "    test_dict[l1[i-1]] = [X,y]"
   ]
  },
  {
   "cell_type": "code",
   "execution_count": null,
   "metadata": {},
   "outputs": [],
   "source": [
    "#function for calculating distance and sorting it\n",
    "def dist(X_train,X_test):\n",
    "    distance = {}\n",
    "    X_train = np.array(X_train)\n",
    "    X_test = np.array(X_test )\n",
    "    \n",
    "    for i in range(X_test.shape[0]):\n",
    "        d = (((X_train - X_test[i,:])**2).sum(axis = 1))**(1/2)\n",
    "        d = d.reshape((88800,1))  \n",
    "        index = np.arange(0,88800)\n",
    "        index = index.reshape((88800,1))\n",
    "        d = np.c_[index,d]\n",
    "        distance['P'+str(i+1)]= d\n",
    "        distance['P'+str(i+1)] = distance['P'+str(i+1)][distance['P'+str(i+1)][:,1].argsort()]\n",
    "    return distance"
   ]
  },
  {
   "cell_type": "code",
   "execution_count": null,
   "metadata": {},
   "outputs": [],
   "source": [
    "# making groups and testing accuracy\n",
    "for i in range(1,27):\n",
    "    X = train_dict[l1[i-1]][0]\n",
    "    y = train_dict[l1[i-1]][1]\n",
    "    X_test = test_dict[l1[i-1]][0]\n",
    "    y_test = test_dict[l1[i-1]][1]\n",
    "    d = dist(X,X_test)\n",
    "    correct = 0\n",
    "    for j in range(X_test.shape[0]):\n",
    "        w  = d['P'+str(i+1)][0][0]\n",
    "        y_ans = y[w]\n",
    "        y_test_ans = y_test[j]\n",
    "        if y_ans == y_test_ans :\n",
    "            correct +=1\n",
    "        else:\n",
    "            correct +=0\n",
    "                \n",
    "            \n",
    "    accuracy = correct/X_test.shape[0]\n",
    "    alphabet = l1[i-1]\n",
    "    print(f\"accurecy of \"+ l1[i] + str(accuracy))"
   ]
  }
 ],
 "metadata": {
  "interpreter": {
   "hash": "921a8fd9142323c132b692139857bb5e004fc1baf7b8adaa19d60dbedcb1b05b"
  },
  "kernelspec": {
   "display_name": "Python 3.10.1 64-bit",
   "language": "python",
   "name": "python3"
  },
  "language_info": {
   "codemirror_mode": {
    "name": "ipython",
    "version": 3
   },
   "file_extension": ".py",
   "mimetype": "text/x-python",
   "name": "python",
   "nbconvert_exporter": "python",
   "pygments_lexer": "ipython3",
   "version": "3.10.1"
  },
  "orig_nbformat": 4
 },
 "nbformat": 4,
 "nbformat_minor": 2
}
