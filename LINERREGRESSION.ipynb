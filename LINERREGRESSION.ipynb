{
 "cells": [
  {
   "cell_type": "code",
   "execution_count": 1,
   "metadata": {},
   "outputs": [],
   "source": [
    "import numpy as np\n",
    "import pandas as pd\n",
    "import matplotlib.pyplot as plt"
   ]
  },
  {
   "cell_type": "code",
   "execution_count": 4,
   "metadata": {},
   "outputs": [],
   "source": [
    "training_data = pd.read_csv('Linear_train.csv')\n",
    "test_data = pd.read_csv('Linear_test.csv')"
   ]
  },
  {
   "cell_type": "code",
   "execution_count": 5,
   "metadata": {},
   "outputs": [],
   "source": [
    "X = training_data.loc[:,'A':'T'].values\n",
    "X = np.c_[np.ones((X.shape[0], 1)), X]\n",
    "\n",
    "Y = training_data.loc[:,'label'].values\n",
    "Y = Y.reshape(50000, 1)\n",
    "\n",
    "\n",
    "X_test = test_data.loc[:,'A':'T'].values\n",
    "X_test = np.c_[np.ones((X_test.shape[0], 1)), X_test]\n",
    "\n",
    "Y_test = test_data.loc[:,'label'].values\n",
    "Y_test = Y_test.reshape(10000, 1)\n"
   ]
  },
  {
   "cell_type": "code",
   "execution_count": 6,
   "metadata": {},
   "outputs": [],
   "source": [
    "def ML1(X,Y,alpha,itr):\n",
    "    m = X.shape[0]\n",
    "    j=[]\n",
    "    w=[]\n",
    "\n",
    "    theta = np.zeros((X.shape[1], 1))\n",
    "\n",
    "    for i in range(itr):\n",
    "        Z = X@theta\n",
    "\n",
    "        grad = (1/m)*(X.T@(Z-Y))\n",
    "\n",
    "        cost = (1/(2*m))*((Z-Y)*(Z-Y)).sum()\n",
    "        j.append(cost)\n",
    "        w.append(i)\n",
    "\n",
    "        theta = theta-(alpha/m)*grad\n",
    "    plt.plot(w,j)\n",
    "    plt.show()\n",
    "    return theta\n",
    "            \n",
    "def rmse(X, Y,theta):\n",
    "    a = np.sqrt(((X@theta-Y)**2).sum()/len(Y))\n",
    "    #b = ((Y-np.mean(Y))**2).sum()\n",
    "\n",
    "    #score = (1-(a/b))*100\n",
    "    print(a)"
   ]
  },
  {
   "cell_type": "code",
   "execution_count": 13,
   "metadata": {},
   "outputs": [
    {
     "data": {
      "image/png": "[encoded data removed]",
      "text/plain": [
       "<Figure size 432x288 with 1 Axes>"
      ]
     },
     "metadata": {
      "needs_background": "light"
     },
     "output_type": "display_data"
    }
   ],
   "source": [
    "ML = ML1(X=X, Y=Y,alpha=0.003,itr=150000 )"
   ]
  },
  {
   "cell_type": "code",
   "execution_count": 14,
   "metadata": {},
   "outputs": [
    {
     "name": "stdout",
     "output_type": "stream",
     "text": [
      "3.5848924233370583\n"
     ]
    }
   ],
   "source": [
    "rmse(X_test, Y_test, ML)"
   ]
  }
 ],
 "metadata": {
  "interpreter": {
   "hash": "921a8fd9142323c132b692139857bb5e004fc1baf7b8adaa19d60dbedcb1b05b"
  },
  "kernelspec": {
   "display_name": "Python 3.10.1 64-bit",
   "language": "python",
   "name": "python3"
  },
  "language_info": {
   "codemirror_mode": {
    "name": "ipython",
    "version": 3
   },
   "file_extension": ".py",
   "mimetype": "text/x-python",
   "name": "python",
   "nbconvert_exporter": "python",
   "pygments_lexer": "ipython3",
   "version": "3.10.1"
  },
  "orig_nbformat": 4
 },
 "nbformat": 4,
 "nbformat_minor": 2
}
