{
 "cells": [
  {
   "cell_type": "code",
   "execution_count": 1,
   "metadata": {},
   "outputs": [],
   "source": [
    "import numpy as np\n",
    "import pandas as pd\n",
    "import matplotlib.pyplot as plt\n"
   ]
  },
  {
   "cell_type": "code",
   "execution_count": 2,
   "metadata": {},
   "outputs": [],
   "source": [
    "#importing data\n",
    "training_data = pd.read_csv('emnist-letters-train.csv',header=None)\n",
    "test_data = pd.read_csv('emnist-letters-test (1).csv',header=None)\n",
    "l1=['A','B','C','D','E','F','G','H','I','J','K','L','M','N','O','P','Q','R','S','T','U','V','W','X','Y','Z']"
   ]
  },
  {
   "cell_type": "code",
   "execution_count": 3,
   "metadata": {},
   "outputs": [
    {
     "ename": "KeyboardInterrupt",
     "evalue": "",
     "output_type": "error",
     "traceback": [
      "\u001b[1;31m---------------------------------------------------------------------------\u001b[0m",
      "\u001b[1;31mKeyboardInterrupt\u001b[0m                         Traceback (most recent call last)",
      "\u001b[1;32mc:\\Users\\dhruvil patel\\OneDrive\\Documents\\dhruvil iit ism\\vsc\\Logistic_test_train1.ipynb Cell 3'\u001b[0m in \u001b[0;36m<cell line: 5>\u001b[1;34m()\u001b[0m\n\u001b[0;32m      <a href='vscode-notebook-cell:/c%3A/Users/dhruvil%20patel/OneDrive/Documents/dhruvil%20iit%20ism/vsc/Logistic_test_train1.ipynb#ch0000002?line=7'>8</a>\u001b[0m             datasets[i\u001b[39m-\u001b[39m\u001b[39m1\u001b[39m]\u001b[39m.\u001b[39miloc[j,\u001b[39m0\u001b[39m]\u001b[39m=\u001b[39m\u001b[39m1\u001b[39m\n\u001b[0;32m      <a href='vscode-notebook-cell:/c%3A/Users/dhruvil%20patel/OneDrive/Documents/dhruvil%20iit%20ism/vsc/Logistic_test_train1.ipynb#ch0000002?line=8'>9</a>\u001b[0m         \u001b[39melse\u001b[39;00m:\n\u001b[1;32m---> <a href='vscode-notebook-cell:/c%3A/Users/dhruvil%20patel/OneDrive/Documents/dhruvil%20iit%20ism/vsc/Logistic_test_train1.ipynb#ch0000002?line=9'>10</a>\u001b[0m             datasets[i\u001b[39m-\u001b[39m\u001b[39m1\u001b[39m]\u001b[39m.\u001b[39miloc[j,\u001b[39m0\u001b[39m]\u001b[39m=\u001b[39m\u001b[39m0\u001b[39m   \n\u001b[0;32m     <a href='vscode-notebook-cell:/c%3A/Users/dhruvil%20patel/OneDrive/Documents/dhruvil%20iit%20ism/vsc/Logistic_test_train1.ipynb#ch0000002?line=10'>11</a>\u001b[0m train_dict\u001b[39m=\u001b[39m{}\n\u001b[0;32m     <a href='vscode-notebook-cell:/c%3A/Users/dhruvil%20patel/OneDrive/Documents/dhruvil%20iit%20ism/vsc/Logistic_test_train1.ipynb#ch0000002?line=11'>12</a>\u001b[0m \u001b[39mfor\u001b[39;00m i \u001b[39min\u001b[39;00m \u001b[39mrange\u001b[39m(\u001b[39m1\u001b[39m,\u001b[39m27\u001b[39m):\n",
      "File \u001b[1;32m~\\AppData\\Local\\Programs\\Python\\Python310\\lib\\site-packages\\pandas\\core\\indexing.py:716\u001b[0m, in \u001b[0;36m_LocationIndexer.__setitem__\u001b[1;34m(self, key, value)\u001b[0m\n\u001b[0;32m    <a href='file:///c%3A/Users/dhruvil%20patel/AppData/Local/Programs/Python/Python310/lib/site-packages/pandas/core/indexing.py?line=712'>713</a>\u001b[0m \u001b[39mself\u001b[39m\u001b[39m.\u001b[39m_has_valid_setitem_indexer(key)\n\u001b[0;32m    <a href='file:///c%3A/Users/dhruvil%20patel/AppData/Local/Programs/Python/Python310/lib/site-packages/pandas/core/indexing.py?line=714'>715</a>\u001b[0m iloc \u001b[39m=\u001b[39m \u001b[39mself\u001b[39m \u001b[39mif\u001b[39;00m \u001b[39mself\u001b[39m\u001b[39m.\u001b[39mname \u001b[39m==\u001b[39m \u001b[39m\"\u001b[39m\u001b[39miloc\u001b[39m\u001b[39m\"\u001b[39m \u001b[39melse\u001b[39;00m \u001b[39mself\u001b[39m\u001b[39m.\u001b[39mobj\u001b[39m.\u001b[39miloc\n\u001b[1;32m--> <a href='file:///c%3A/Users/dhruvil%20patel/AppData/Local/Programs/Python/Python310/lib/site-packages/pandas/core/indexing.py?line=715'>716</a>\u001b[0m iloc\u001b[39m.\u001b[39;49m_setitem_with_indexer(indexer, value, \u001b[39mself\u001b[39;49m\u001b[39m.\u001b[39;49mname)\n",
      "File \u001b[1;32m~\\AppData\\Local\\Programs\\Python\\Python310\\lib\\site-packages\\pandas\\core\\indexing.py:1690\u001b[0m, in \u001b[0;36m_iLocIndexer._setitem_with_indexer\u001b[1;34m(self, indexer, value, name)\u001b[0m\n\u001b[0;32m   <a href='file:///c%3A/Users/dhruvil%20patel/AppData/Local/Programs/Python/Python310/lib/site-packages/pandas/core/indexing.py?line=1687'>1688</a>\u001b[0m     \u001b[39mself\u001b[39m\u001b[39m.\u001b[39m_setitem_with_indexer_split_path(indexer, value, name)\n\u001b[0;32m   <a href='file:///c%3A/Users/dhruvil%20patel/AppData/Local/Programs/Python/Python310/lib/site-packages/pandas/core/indexing.py?line=1688'>1689</a>\u001b[0m \u001b[39melse\u001b[39;00m:\n\u001b[1;32m-> <a href='file:///c%3A/Users/dhruvil%20patel/AppData/Local/Programs/Python/Python310/lib/site-packages/pandas/core/indexing.py?line=1689'>1690</a>\u001b[0m     \u001b[39mself\u001b[39;49m\u001b[39m.\u001b[39;49m_setitem_single_block(indexer, value, name)\n",
      "File \u001b[1;32m~\\AppData\\Local\\Programs\\Python\\Python310\\lib\\site-packages\\pandas\\core\\indexing.py:1914\u001b[0m, in \u001b[0;36m_iLocIndexer._setitem_single_block\u001b[1;34m(self, indexer, value, name)\u001b[0m\n\u001b[0;32m   <a href='file:///c%3A/Users/dhruvil%20patel/AppData/Local/Programs/Python/Python310/lib/site-packages/pandas/core/indexing.py?line=1903'>1904</a>\u001b[0m item_labels \u001b[39m=\u001b[39m \u001b[39mself\u001b[39m\u001b[39m.\u001b[39mobj\u001b[39m.\u001b[39m_get_axis(info_axis)\n\u001b[0;32m   <a href='file:///c%3A/Users/dhruvil%20patel/AppData/Local/Programs/Python/Python310/lib/site-packages/pandas/core/indexing.py?line=1905'>1906</a>\u001b[0m \u001b[39mif\u001b[39;00m \u001b[39misinstance\u001b[39m(indexer, \u001b[39mtuple\u001b[39m):\n\u001b[0;32m   <a href='file:///c%3A/Users/dhruvil%20patel/AppData/Local/Programs/Python/Python310/lib/site-packages/pandas/core/indexing.py?line=1906'>1907</a>\u001b[0m \n\u001b[0;32m   <a href='file:///c%3A/Users/dhruvil%20patel/AppData/Local/Programs/Python/Python310/lib/site-packages/pandas/core/indexing.py?line=1907'>1908</a>\u001b[0m     \u001b[39m# if we are setting on the info axis ONLY\u001b[39;00m\n\u001b[0;32m   <a href='file:///c%3A/Users/dhruvil%20patel/AppData/Local/Programs/Python/Python310/lib/site-packages/pandas/core/indexing.py?line=1908'>1909</a>\u001b[0m     \u001b[39m# set using those methods to avoid block-splitting\u001b[39;00m\n\u001b[0;32m   <a href='file:///c%3A/Users/dhruvil%20patel/AppData/Local/Programs/Python/Python310/lib/site-packages/pandas/core/indexing.py?line=1909'>1910</a>\u001b[0m     \u001b[39m# logic here\u001b[39;00m\n\u001b[0;32m   <a href='file:///c%3A/Users/dhruvil%20patel/AppData/Local/Programs/Python/Python310/lib/site-packages/pandas/core/indexing.py?line=1910'>1911</a>\u001b[0m     \u001b[39mif\u001b[39;00m (\n\u001b[0;32m   <a href='file:///c%3A/Users/dhruvil%20patel/AppData/Local/Programs/Python/Python310/lib/site-packages/pandas/core/indexing.py?line=1911'>1912</a>\u001b[0m         \u001b[39mself\u001b[39m\u001b[39m.\u001b[39mndim \u001b[39m==\u001b[39m \u001b[39mlen\u001b[39m(indexer) \u001b[39m==\u001b[39m \u001b[39m2\u001b[39m\n\u001b[0;32m   <a href='file:///c%3A/Users/dhruvil%20patel/AppData/Local/Programs/Python/Python310/lib/site-packages/pandas/core/indexing.py?line=1912'>1913</a>\u001b[0m         \u001b[39mand\u001b[39;00m is_integer(indexer[\u001b[39m1\u001b[39m])\n\u001b[1;32m-> <a href='file:///c%3A/Users/dhruvil%20patel/AppData/Local/Programs/Python/Python310/lib/site-packages/pandas/core/indexing.py?line=1913'>1914</a>\u001b[0m         \u001b[39mand\u001b[39;00m com\u001b[39m.\u001b[39;49mis_null_slice(indexer[\u001b[39m0\u001b[39;49m])\n\u001b[0;32m   <a href='file:///c%3A/Users/dhruvil%20patel/AppData/Local/Programs/Python/Python310/lib/site-packages/pandas/core/indexing.py?line=1914'>1915</a>\u001b[0m     ):\n\u001b[0;32m   <a href='file:///c%3A/Users/dhruvil%20patel/AppData/Local/Programs/Python/Python310/lib/site-packages/pandas/core/indexing.py?line=1915'>1916</a>\u001b[0m         col \u001b[39m=\u001b[39m item_labels[indexer[info_axis]]\n\u001b[0;32m   <a href='file:///c%3A/Users/dhruvil%20patel/AppData/Local/Programs/Python/Python310/lib/site-packages/pandas/core/indexing.py?line=1916'>1917</a>\u001b[0m         \u001b[39mif\u001b[39;00m \u001b[39mlen\u001b[39m(item_labels\u001b[39m.\u001b[39mget_indexer_for([col])) \u001b[39m==\u001b[39m \u001b[39m1\u001b[39m:\n\u001b[0;32m   <a href='file:///c%3A/Users/dhruvil%20patel/AppData/Local/Programs/Python/Python310/lib/site-packages/pandas/core/indexing.py?line=1917'>1918</a>\u001b[0m             \u001b[39m# e.g. test_loc_setitem_empty_append_expands_rows\u001b[39;00m\n",
      "File \u001b[1;32m~\\AppData\\Local\\Programs\\Python\\Python310\\lib\\site-packages\\pandas\\core\\common.py:297\u001b[0m, in \u001b[0;36mis_null_slice\u001b[1;34m(obj)\u001b[0m\n\u001b[0;32m    <a href='file:///c%3A/Users/dhruvil%20patel/AppData/Local/Programs/Python/Python310/lib/site-packages/pandas/core/common.py?line=292'>293</a>\u001b[0m     obj \u001b[39m=\u001b[39m cast(Collection, obj)\n\u001b[0;32m    <a href='file:///c%3A/Users/dhruvil%20patel/AppData/Local/Programs/Python/Python310/lib/site-packages/pandas/core/common.py?line=293'>294</a>\u001b[0m     \u001b[39mreturn\u001b[39;00m obj\n\u001b[1;32m--> <a href='file:///c%3A/Users/dhruvil%20patel/AppData/Local/Programs/Python/Python310/lib/site-packages/pandas/core/common.py?line=296'>297</a>\u001b[0m \u001b[39mdef\u001b[39;00m \u001b[39mis_null_slice\u001b[39m(obj) \u001b[39m-\u001b[39m\u001b[39m>\u001b[39m \u001b[39mbool\u001b[39m:\n\u001b[0;32m    <a href='file:///c%3A/Users/dhruvil%20patel/AppData/Local/Programs/Python/Python310/lib/site-packages/pandas/core/common.py?line=297'>298</a>\u001b[0m     \u001b[39m\"\"\"\u001b[39;00m\n\u001b[0;32m    <a href='file:///c%3A/Users/dhruvil%20patel/AppData/Local/Programs/Python/Python310/lib/site-packages/pandas/core/common.py?line=298'>299</a>\u001b[0m \u001b[39m    We have a null slice.\u001b[39;00m\n\u001b[0;32m    <a href='file:///c%3A/Users/dhruvil%20patel/AppData/Local/Programs/Python/Python310/lib/site-packages/pandas/core/common.py?line=299'>300</a>\u001b[0m \u001b[39m    \"\"\"\u001b[39;00m\n\u001b[0;32m    <a href='file:///c%3A/Users/dhruvil%20patel/AppData/Local/Programs/Python/Python310/lib/site-packages/pandas/core/common.py?line=300'>301</a>\u001b[0m     \u001b[39mreturn\u001b[39;00m (\n\u001b[0;32m    <a href='file:///c%3A/Users/dhruvil%20patel/AppData/Local/Programs/Python/Python310/lib/site-packages/pandas/core/common.py?line=301'>302</a>\u001b[0m         \u001b[39misinstance\u001b[39m(obj, \u001b[39mslice\u001b[39m)\n\u001b[0;32m    <a href='file:///c%3A/Users/dhruvil%20patel/AppData/Local/Programs/Python/Python310/lib/site-packages/pandas/core/common.py?line=302'>303</a>\u001b[0m         \u001b[39mand\u001b[39;00m obj\u001b[39m.\u001b[39mstart \u001b[39mis\u001b[39;00m \u001b[39mNone\u001b[39;00m\n\u001b[0;32m    <a href='file:///c%3A/Users/dhruvil%20patel/AppData/Local/Programs/Python/Python310/lib/site-packages/pandas/core/common.py?line=303'>304</a>\u001b[0m         \u001b[39mand\u001b[39;00m obj\u001b[39m.\u001b[39mstop \u001b[39mis\u001b[39;00m \u001b[39mNone\u001b[39;00m\n\u001b[0;32m    <a href='file:///c%3A/Users/dhruvil%20patel/AppData/Local/Programs/Python/Python310/lib/site-packages/pandas/core/common.py?line=304'>305</a>\u001b[0m         \u001b[39mand\u001b[39;00m obj\u001b[39m.\u001b[39mstep \u001b[39mis\u001b[39;00m \u001b[39mNone\u001b[39;00m\n\u001b[0;32m    <a href='file:///c%3A/Users/dhruvil%20patel/AppData/Local/Programs/Python/Python310/lib/site-packages/pandas/core/common.py?line=305'>306</a>\u001b[0m     )\n",
      "\u001b[1;31mKeyboardInterrupt\u001b[0m: "
     ]
    }
   ],
   "source": [
    "#creating 26 dataset on test and train data\n",
    "datasets = []\n",
    "for i in range(26):\n",
    "    datasets.append(training_data.copy())\n",
    "for i in range(1,27):\n",
    "    for j in range(88800):\n",
    "        if datasets[i-1].iloc[j,0] == i:\n",
    "            datasets[i-1].iloc[j,0]=1\n",
    "        else:\n",
    "            datasets[i-1].iloc[j,0]=0   \n",
    "train_dict={}\n",
    "for i in range(1,27):\n",
    "    X = datasets[i-1].iloc[:,1:785]\n",
    "    y = datasets[i-1].iloc[:,0] \n",
    "    y = np.array(y)\n",
    "    y = y.reshape(y.shape[0],1)\n",
    "    \n",
    "    train_dict[l1[i-1]] = [X,y]\n",
    "\n",
    "\n",
    "\n",
    "\n",
    "datasets = []\n",
    "\n",
    "for i in range(26):\n",
    "    datasets.append(test_data.copy())\n",
    "for i in range(1,27):\n",
    "    for j in range(14800):\n",
    "        if datasets[i-1].iloc[j,0] == i:\n",
    "            datasets[i-1].iloc[j,0]=1\n",
    "        else:\n",
    "            datasets[i-1].iloc[j,0]=0   \n",
    "\n",
    "test_dict={}\n",
    "for i in range(1,27):\n",
    "    X = datasets[i-1].iloc[:,1:785]\n",
    "    y = datasets[i-1].iloc[:,0]  \n",
    "    y = np.array(y)\n",
    "    y = y.reshape(y.shape[0],1)\n",
    "    \n",
    "    test_dict[l1[i-1]] = [X,y]\n",
    "    "
   ]
  },
  {
   "cell_type": "code",
   "execution_count": null,
   "metadata": {},
   "outputs": [],
   "source": [
    "#logistic regression function\n",
    "def logistic(itr, alpha, X, Y):\n",
    "    m = X.shape[0]\n",
    "\n",
    "    theta = np.zeros((X.shape[1], 1))\n",
    "    f = np.ones((len(y),))\n",
    "\n",
    "    for i in range(itr):\n",
    "        \n",
    "        Z1 = X@theta\n",
    "        Z = 1/(1+np.exp(Z1*(-1)))\n",
    "\n",
    "\n",
    "        grad = (1/m)*(X.T@(Z-Y))\n",
    "\n",
    "\n",
    "        #c = np.sum((f-y)*(np.log(f-Z))+(y)*(np.log(Z)))*(-1/len(y))\n",
    "\n",
    "        theta = theta-(alpha/m)*grad\n",
    "    return theta"
   ]
  },
  {
   "cell_type": "code",
   "execution_count": null,
   "metadata": {},
   "outputs": [],
   "source": [
    "\n",
    "\n",
    "m = 88800\n",
    "\n",
    "theta_1 = []\n",
    "\n",
    "\n",
    "for i in range(1,27):\n",
    "    print(i)\n",
    "    \n",
    "    X = train_dict[l1[i-1]][0]\n",
    "    y = train_dict[l1[i-1]][1]\n",
    "    y = np.array(y)\n",
    "    y = y.reshape(88800,1)\n",
    "    \n",
    "    X = np.c_[np.ones((88800,1)),X]\n",
    "    theta = np.ones((785,1))\n",
    "    theta[0,0] = 0\n",
    "    \n",
    "\n",
    "    theta = logistic(100,0.03,X,y)\n",
    "    \n",
    "    theta = theta.reshape(785,1)  \n",
    "    theta_1.append([theta])\n",
    "    "
   ]
  },
  {
   "cell_type": "code",
   "execution_count": null,
   "metadata": {},
   "outputs": [],
   "source": [
    "#accuracy on train data\n",
    "for i in range(1,27):\n",
    "    X = train_dict[l1[i-1]][0]\n",
    "    y = train_dict[l1[i-1]][1]\n",
    "    y = np.array(y)\n",
    "    y = y.reshape(88800,1)\n",
    "    X = np.c_[np.ones((88800,1)),X]\n",
    "    theta = theta_1[i-1]\n",
    "    c = 0\n",
    "    for j in range(88800):\n",
    "        print(j)\n",
    "        Z = X@theta\n",
    "        h = 1/(1+np.exp(Z*(-1)))\n",
    "        if np.logical_and(h.sum()>=0.5 , y[j] ==1):\n",
    "            c += 1\n",
    "        if np.logical_and(h.sum()<0.5 , y[j]==0):\n",
    "            c += 1\n",
    "    accuracy = (c/88800)*100\n",
    "    alphabet = l1[i-1]\n",
    "    print('Accuracy for'+alphabet + str(accuracy) )"
   ]
  },
  {
   "cell_type": "code",
   "execution_count": null,
   "metadata": {},
   "outputs": [],
   "source": [
    "#accuracy on test data\n",
    "for i in range(1,27):\n",
    "    X = test_dict['D'+str(i)][0]\n",
    "    y = test_dict['D'+str(i)][1]\n",
    "    y = np.array(y)\n",
    "    y = y.reshape(14800,1)\n",
    "    X = np.c_[np.ones((14800,1)),X]\n",
    "    theta = theta_1[i-1]\n",
    "    c = 0\n",
    "    for j in range(14800):\n",
    "        Z = X@theta\n",
    "        h = 1/(1+np.exp(Z*(-1)))\n",
    "        if np.logical_and(h.sum()>=0.5 , y[j] ==1):\n",
    "            c += 1\n",
    "        if np.logical_and(h.sum()<0.5 , y[j]==0):\n",
    "            c += 1\n",
    "    accuracy = (c/14800)*100\n",
    "    alphabet = l1[i-1]\n",
    "    print('Accuracy for'+alphabet + str(accuracy) )"
   ]
  }
 ],
 "metadata": {
  "interpreter": {
   "hash": "b3ba2566441a7c06988d0923437866b63cedc61552a5af99d1f4fb67d367b25f"
  },
  "kernelspec": {
   "display_name": "Python 3 (ipykernel)",
   "language": "python",
   "name": "python3"
  },
  "language_info": {
   "codemirror_mode": {
    "name": "ipython",
    "version": 3
   },
   "file_extension": ".py",
   "mimetype": "text/x-python",
   "name": "python",
   "nbconvert_exporter": "python",
   "pygments_lexer": "ipython3",
   "version": "3.10.1"
  }
 },
 "nbformat": 4,
 "nbformat_minor": 2
}
