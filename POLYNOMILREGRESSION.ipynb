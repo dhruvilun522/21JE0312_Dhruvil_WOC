{
 "cells": [
  {
   "cell_type": "code",
   "execution_count": 3,
   "metadata": {},
   "outputs": [],
   "source": [
    "import numpy as np\n",
    "import pandas as pd\n",
    "import matplotlib.pyplot as plt"
   ]
  },
  {
   "cell_type": "code",
   "execution_count": 4,
   "metadata": {},
   "outputs": [],
   "source": [
    "training_data = pd.read_csv('Polynomial_train.csv')\n",
    "test_data = pd.read_csv('Polynomial_test.csv')"
   ]
  },
  {
   "cell_type": "code",
   "execution_count": 5,
   "metadata": {},
   "outputs": [],
   "source": [
    "X = training_data.loc[:,'X':'Z'].values\n",
    "X1 = X[:,0]\n",
    "X2 = X[:,1]\n",
    "X3 = X[:,2]\n",
    "X = np.c_[np.ones((X.shape[0],1)) ,X1*X1,X2*X2,X3*X3,X1*X2,X2*X3,X3*X1]\n",
    "\n",
    "Y = training_data.loc[:,'label'].values\n",
    "Y = Y.reshape(50000, 1)\n",
    "\n",
    "X_test = test_data.loc[:,'X':'Z'].values\n",
    "x1 = X_test[:,0]\n",
    "x2 = X_test[:,1]\n",
    "x3 = X_test[:,2]\n",
    "X_test = np.c_[np.ones((X_test.shape[0],1)) ,x1*x1,x2*x2,x3*x3,x1*x2,x2*x3,x3*x1]\n",
    "\n",
    "Y_test = test_data.loc[:,'label'].values\n",
    "Y_test = Y_test.reshape(10000, 1)"
   ]
  },
  {
   "cell_type": "code",
   "execution_count": 6,
   "metadata": {},
   "outputs": [],
   "source": [
    "def ML2( X, Y, alpha,itr):\n",
    "    m = X.shape[0]\n",
    "    j=[]\n",
    "    w=[]\n",
    "\n",
    "    theta = np.zeros((X.shape[1], 1))\n",
    "\n",
    "    for i in range(itr):\n",
    "        Z = X@theta\n",
    "\n",
    "        grad = (1/m)*(X.T@(Z-Y))\n",
    "\n",
    "        cost = (1/(2*m))*((Z-Y)*(Z-Y)).sum()\n",
    "        j.append(cost)\n",
    "        w.append(i)\n",
    "\n",
    "        theta = theta-(alpha/m)*grad\n",
    "    plt.plot(w,j,)\n",
    "    plt.xlabel('x - axis')\n",
    "    plt.ylabel('y - axis')\n",
    "\n",
    "    plt.show()\n",
    "    return theta\n",
    "            \n",
    "def RMSEP(theta,X, Y):\n",
    "    a =np.sqrt(((X@theta-Y)**2).sum()/10000)\n",
    "\n",
    "    print(a)"
   ]
  },
  {
   "cell_type": "code",
   "execution_count": 7,
   "metadata": {},
   "outputs": [
    {
     "data": {
      "image/png": "[encoded data removed]",
      "text/plain": [
       "<Figure size 432x288 with 1 Axes>"
      ]
     },
     "metadata": {
      "needs_background": "light"
     },
     "output_type": "display_data"
    },
    {
     "data": {
      "image/png": "[encoded data removed]",
      "text/plain": [
       "<Figure size 432x288 with 1 Axes>"
      ]
     },
     "metadata": {
      "needs_background": "light"
     },
     "output_type": "display_data"
    }
   ],
   "source": [
    "ML2 = ML2( X=X, Y=Y, alpha=0.03,itr=15000)"
   ]
  },
  {
   "cell_type": "code",
   "execution_count": 8,
   "metadata": {},
   "outputs": [
    {
     "name": "stdout",
     "output_type": "stream",
     "text": [
      "1.5679247179387177\n"
     ]
    }
   ],
   "source": [
    "RMSEP(ML2,X=X_test, Y=Y_test)"
   ]
  }
 ],
 "metadata": {
  "interpreter": {
   "hash": "921a8fd9142323c132b692139857bb5e004fc1baf7b8adaa19d60dbedcb1b05b"
  },
  "kernelspec": {
   "display_name": "Python 3.10.1 64-bit",
   "language": "python",
   "name": "python3"
  },
  "language_info": {
   "codemirror_mode": {
    "name": "ipython",
    "version": 3
   },
   "file_extension": ".py",
   "mimetype": "text/x-python",
   "name": "python",
   "nbconvert_exporter": "python",
   "pygments_lexer": "ipython3",
   "version": "3.10.1"
  },
  "orig_nbformat": 4
 },
 "nbformat": 4,
 "nbformat_minor": 2
}
